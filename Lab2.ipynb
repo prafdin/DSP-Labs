{
 "cells": [
  {
   "cell_type": "code",
   "execution_count": 25,
   "id": "00ac6e8c",
   "metadata": {},
   "outputs": [],
   "source": [
    "import matplotlib.pyplot as plt\n",
    "import numpy as np\n",
    "from scipy.io.wavfile import write\n",
    "import IPython.display as ipd\n",
    "import math"
   ]
  },
  {
   "cell_type": "code",
   "execution_count": 26,
   "id": "bebb3a1f",
   "metadata": {},
   "outputs": [],
   "source": [
    "from enum import Enum\n",
    "from functools import partial\n",
    "from scipy import signal\n",
    "\n",
    "class Waveform(Enum):\n",
    "    @staticmethod\n",
    "    def triangular(args):\n",
    "        return signal.sawtooth(args, 0.5)\n",
    "    \n",
    "    HARMONIC = partial(np.sin)\n",
    "    SQUARE = partial(signal.square)\n",
    "    TRIANGULAR = partial(triangular.__func__)\n",
    "    SAWTOOTH = partial(signal.sawtooth)\n",
    "    \n",
    "\n",
    "def tone(f, t, waveform, fs):\n",
    "    samples = np.linspace(0, t, round(t * fs + 1))\n",
    "    return waveform.value( 2* np.pi * f * samples)"
   ]
  },
  {
   "cell_type": "code",
   "execution_count": 37,
   "id": "12ffdb99",
   "metadata": {},
   "outputs": [
    {
     "data": {
      "text/plain": [
       "<StemContainer object of 3 artists>"
      ]
     },
     "execution_count": 37,
     "metadata": {},
     "output_type": "execute_result"
    },
    {
     "data": {
      "image/png": "[encoded data removed]",
      "text/plain": [
       "<Figure size 640x480 with 1 Axes>"
      ]
     },
     "metadata": {},
     "output_type": "display_data"
    }
   ],
   "source": [
    "f = 1\n",
    "t = 5\n",
    "fs = 5000\n",
    "samples =  np.linspace(0, t, round(t * fs + 1))\n",
    "values = tone(f, t, Waveform.HARMONIC, fs)\n",
    "\n",
    "plt.xlim(0, 3)\n",
    "plt.stem(samples, values)"
   ]
  },
  {
   "cell_type": "code",
   "execution_count": 9,
   "id": "64faa2e4",
   "metadata": {},
   "outputs": [],
   "source": [
    "def get_mean(x):\n",
    "    return sum(x[:-1]) / len(x)\n",
    "\n",
    "def my_acf(x, m):\n",
    "    mean = get_mean(x)\n",
    "    result = 0\n",
    "    N = len(x)\n",
    "    for i in range(N - m - 1):\n",
    "        result += (x[i] - mean) * (x[i+m] - mean)\n",
    "        \n",
    "    return result / (N - m)"
   ]
  },
  {
   "cell_type": "code",
   "execution_count": 44,
   "id": "864c4ca2",
   "metadata": {},
   "outputs": [
    {
     "data": {
      "text/plain": [
       "1.6249277876538901"
      ]
     },
     "execution_count": 44,
     "metadata": {},
     "output_type": "execute_result"
    }
   ],
   "source": [
    "my_acf(samples, 2500)"
   ]
  },
  {
   "cell_type": "code",
   "execution_count": 47,
   "id": "8606baf6",
   "metadata": {},
   "outputs": [
    {
     "data": {
      "text/plain": [
       "25001"
      ]
     },
     "execution_count": 47,
     "metadata": {},
     "output_type": "execute_result"
    }
   ],
   "source": [
    "len(values)"
   ]
  },
  {
   "cell_type": "code",
   "execution_count": 19,
   "id": "cce13693",
   "metadata": {},
   "outputs": [
    {
     "data": {
      "text/plain": [
       "1.0"
      ]
     },
     "execution_count": 19,
     "metadata": {},
     "output_type": "execute_result"
    }
   ],
   "source": [
    "1/fs "
   ]
  },
  {
   "cell_type": "code",
   "execution_count": 43,
   "id": "41b4e214",
   "metadata": {},
   "outputs": [
    {
     "data": {
      "text/plain": [
       "0.5"
      ]
     },
     "execution_count": 43,
     "metadata": {},
     "output_type": "execute_result"
    }
   ],
   "source": [
    "samples[2500]"
   ]
  },
  {
   "cell_type": "code",
   "execution_count": 53,
   "id": "1a581b05",
   "metadata": {},
   "outputs": [
    {
     "data": {
      "text/plain": [
       "-7.957760330099919e-18"
      ]
     },
     "execution_count": 53,
     "metadata": {},
     "output_type": "execute_result"
    }
   ],
   "source": [
    "np.mean(values)\n"
   ]
  },
  {
   "cell_type": "code",
   "execution_count": 52,
   "id": "2905bd78",
   "metadata": {},
   "outputs": [
    {
     "data": {
      "text/plain": [
       "-4.280282112555626e-17"
      ]
     },
     "execution_count": 52,
     "metadata": {},
     "output_type": "execute_result"
    }
   ],
   "source": [
    "get_mean(values)"
   ]
  },
  {
   "cell_type": "code",
   "execution_count": 50,
   "id": "e22ea9eb",
   "metadata": {},
   "outputs": [],
   "source": [
    "d = [1,2,3]"
   ]
  },
  {
   "cell_type": "code",
   "execution_count": 51,
   "id": "16e7532c",
   "metadata": {},
   "outputs": [
    {
     "data": {
      "text/plain": [
       "[1, 2]"
      ]
     },
     "execution_count": 51,
     "metadata": {},
     "output_type": "execute_result"
    }
   ],
   "source": [
    "d[:-1]"
   ]
  },
  {
   "cell_type": "code",
   "execution_count": null,
   "id": "b1b3bc2c",
   "metadata": {},
   "outputs": [],
   "source": []
  }
 ],
 "metadata": {
  "kernelspec": {
   "display_name": "Python 3 (ipykernel)",
   "language": "python",
   "name": "python3"
  },
  "language_info": {
   "codemirror_mode": {
    "name": "ipython",
    "version": 3
   },
   "file_extension": ".py",
   "mimetype": "text/x-python",
   "name": "python",
   "nbconvert_exporter": "python",
   "pygments_lexer": "ipython3",
   "version": "3.9.13"
  }
 },
 "nbformat": 4,
 "nbformat_minor": 5
}
